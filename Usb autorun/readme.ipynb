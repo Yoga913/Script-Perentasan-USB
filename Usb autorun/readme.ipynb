{
 "cells": [
  {
   "cell_type": "markdown",
   "metadata": {},
   "source": [
    "# Usb Autorun\n",
    "\n",
    "konsep ini mirip dengan perangkat USB Rubber Ducky.\n",
    "USB Rubber Ducky adalah alat yang menyerupai USB biasa tetapi bertindak sebagai perangkat HID (Human Interface Device),\n",
    "seperti keyboard, yang dapat menyuntikkan serangkaian perintah secara otomatis ke komputer target saat dicolokkan.\n",
    "Perangkat ini sering digunakan untuk pengujian penetrasi dan penelitian keamanan siber.\n",
    "\n",
    "1.Autorun.inf(di direktory root): File ini memberitahu Windows untuk menjalankan skrip ketika USB dihubungkan. Namun, perlu diingat bahwa fitur autorun sudah dinonaktifkan secara default pada versi Windows terbaru karena alasan keamanan.\n",
    "\n",
    "2.File Batch (.bat)(di direktory root): Skrip batch ini akan menjalankan perintah PowerShell yang sudah kita bahas.\n",
    "\n",
    "3.File PowerShell (.ps1)(di Direktory root): Mengandung skrip PowerShell yang akan dijalankan oleh file batch.\n",
    "\n",
    "# Catatan Penting:\n",
    "\n",
    "1.Keamanan: Menggunakan file autorun dan skrip yang dapat mengeksekusi kode otomatis dari USB dapat berbahaya dan sering kali diidentifikasi sebagai perilaku malware. Fitur autorun sendiri sudah dinonaktifkan pada banyak sistem modern untuk mencegah serangan seperti ini.\n",
    "\n",
    "Sebaiknya hanya digunakan untuk keperluan edukasi atau di lingkungan yang sudah mendapatkan izin eksplisit dari pemilik sistem.\n",
    "\n",
    "2.Edukasi dan Penelitian: Skrip ini hanya boleh digunakan dalam konteks pendidikan dan penelitian dengan izin eksplisit dari pemilik sistem yang diuji.\n",
    "\n",
    "3.Kunci API: Gantilah \"YOUR_OPENAI_API_KEY\" dengan kunci API OpenAI yang valid.\n",
    "\n",
    "4.Kompatibilitas: Pastikan pengguna memiliki hak administratif untuk menjalankan skrip PowerShell.\n",
    "\n",
    "5.Autorun.inf: Fitur autorun sudah dinonaktifkan pada banyak sistem modern. Pastikan untuk mengaktifkannya jika ingin menggunakan fitur ini, tetapi lakukan dengan hati-hati karena alasan keamanan.\n",
    "\n",
    "\n",
    "Pastikan untuk menguji skrip ini dalam lingkungan yang aman dan terkontrol."
   ]
  }
 ],
 "metadata": {
  "language_info": {
   "name": "python"
  }
 },
 "nbformat": 4,
 "nbformat_minor": 2
}
